{
 "cells": [
  {
   "cell_type": "markdown",
   "metadata": {},
   "source": [
    "# (1) Bag of words -- page #12 - #17"
   ]
  },
  {
   "cell_type": "code",
   "execution_count": 4,
   "metadata": {},
   "outputs": [],
   "source": [
    "import string\n",
    "import re\n",
    "import timeit\n",
    "\n",
    "import numpy as np\n",
    "import pandas as pd\n",
    "from ordered_set import OrderedSet\n",
    "from sklearn.feature_extraction.text import CountVectorizer , TfidfVectorizer\n",
    "from nltk.tokenize import word_tokenize\n",
    "from nltk.corpus import stopwords\n",
    "from nltk.stem import PorterStemmer\n",
    "from scipy.sparse import csr_matrix\n",
    "from ordered_set import OrderedSet"
   ]
  },
  {
   "cell_type": "code",
   "execution_count": 5,
   "metadata": {},
   "outputs": [],
   "source": [
    "def get_and_clean_data():\n",
    "    data = pd.read_csv('../resource/software_developer_united_states_1971_20191023_1.csv')\n",
    "    description = data['job_description']\n",
    "    cleaned_description = description.apply(lambda s: s.translate(str.maketrans('', '', string.punctuation + u'\\xa0')))\n",
    "    cleaned_description = cleaned_description.apply(lambda s: s.lower())\n",
    "    cleaned_description = cleaned_description.apply(lambda s: s.translate(str.maketrans(string.whitespace, ' '*len(string.whitespace), '')))\n",
    "    cleaned_description = cleaned_description.drop_duplicates()\n",
    "    return cleaned_description\n",
    "\n",
    "def create_stem_cache(cleaned_description): \n",
    " tokenized_description = cleaned_description.apply(lambda s: word_tokenize(s)) \n",
    " concated = np.unique(np.concatenate([s for s in tokenized_description.values])) \n",
    " stem_cache = {} \n",
    " ps = PorterStemmer() \n",
    " for s in concated: \n",
    "    stem_cache[s] = ps.stem(s) \n",
    " return stem_cache\n",
    "  \n",
    "def create_custom_preprocessor(stop_dict, stem_cache): \n",
    "    def custom_preprocessor(s): \n",
    "        ps = PorterStemmer() \n",
    "        s = re.sub(r'[^A-Za-z]', ' ', s) \n",
    "        s = re.sub(r'\\s+', ' ', s) \n",
    "        s = word_tokenize(s) \n",
    "        s = list(OrderedSet(s) - stop_dict) \n",
    "        s = [word for word in s if len(word)>2] \n",
    "        s = [stem_cache[w] if w in stem_cache else ps.stem(w) for w in s] \n",
    "        s = ' '.join(s) \n",
    "        return s \n",
    "    return custom_preprocessor\n",
    "\n",
    "def sk_vectorize(texts, cleaned_description, stop_dict, stem_cache): \n",
    "    my_custom_preprocessor = create_custom_preprocessor(stop_dict, stem_cache) \n",
    "    vectorizer = CountVectorizer(preprocessor=my_custom_preprocessor) \n",
    "    vectorizer.fit(cleaned_description) \n",
    "    query = vectorizer.transform(texts) \n",
    "    print(query) \n",
    "    print(vectorizer.inverse_transform(query))"
   ]
  },
  {
   "cell_type": "code",
   "execution_count": 6,
   "metadata": {},
   "outputs": [],
   "source": [
    "cleaned_description =  get_and_clean_data()\n",
    "stem_cache = create_stem_cache(cleaned_description)\n",
    "stop_dict = set(stopwords.words('English')) \n",
    "my_custom_preprocessor = create_custom_preprocessor(stop_dict, stem_cache)\n",
    "# sk_vectorize(['python is simpler than java'], cleaned_description, stop_dict, stem_cache)"
   ]
  },
  {
   "cell_type": "code",
   "execution_count": 7,
   "metadata": {},
   "outputs": [
    {
     "name": "stdout",
     "output_type": "stream",
     "text": [
      "  (0, 13947)\t1\n",
      "  (0, 21383)\t1\n",
      "  (0, 24234)\t1\n",
      "  (1, 13947)\t1\n",
      "  (1, 21383)\t1\n",
      "  (1, 24234)\t1\n",
      "[array(['java', 'python', 'simpler'], dtype='<U124'), array(['java', 'python', 'simpler'], dtype='<U124')]\n"
     ]
    }
   ],
   "source": [
    "sk_vectorize(['python is simpler than java', 'java is simpler than python'], cleaned_description, stop_dict, stem_cache)"
   ]
  },
  {
   "cell_type": "markdown",
   "metadata": {},
   "source": [
    "# (2) tf idf -- page #25"
   ]
  },
  {
   "cell_type": "code",
   "execution_count": 10,
   "metadata": {},
   "outputs": [
    {
     "data": {
      "text/html": [
       "<div>\n",
       "<style scoped>\n",
       "    .dataframe tbody tr th:only-of-type {\n",
       "        vertical-align: middle;\n",
       "    }\n",
       "\n",
       "    .dataframe tbody tr th {\n",
       "        vertical-align: top;\n",
       "    }\n",
       "\n",
       "    .dataframe thead th {\n",
       "        text-align: right;\n",
       "    }\n",
       "</style>\n",
       "<table border=\"1\" class=\"dataframe\">\n",
       "  <thead>\n",
       "    <tr style=\"text-align: right;\">\n",
       "      <th></th>\n",
       "      <th>applic</th>\n",
       "      <th>design</th>\n",
       "      <th>develop</th>\n",
       "      <th>employ</th>\n",
       "      <th>provid</th>\n",
       "      <th>requir</th>\n",
       "      <th>respons</th>\n",
       "      <th>system</th>\n",
       "      <th>test</th>\n",
       "      <th>work</th>\n",
       "    </tr>\n",
       "  </thead>\n",
       "  <tbody>\n",
       "    <tr>\n",
       "      <th>0</th>\n",
       "      <td>0.044218</td>\n",
       "      <td>0.046397</td>\n",
       "      <td>0.057155</td>\n",
       "      <td>0.030353</td>\n",
       "      <td>0.028125</td>\n",
       "      <td>0.022774</td>\n",
       "      <td>0.026645</td>\n",
       "      <td>0.000000</td>\n",
       "      <td>0.078244</td>\n",
       "      <td>0.020490</td>\n",
       "    </tr>\n",
       "    <tr>\n",
       "      <th>1</th>\n",
       "      <td>0.031692</td>\n",
       "      <td>0.033254</td>\n",
       "      <td>0.054619</td>\n",
       "      <td>0.000000</td>\n",
       "      <td>0.000000</td>\n",
       "      <td>0.032645</td>\n",
       "      <td>0.038194</td>\n",
       "      <td>0.000000</td>\n",
       "      <td>0.000000</td>\n",
       "      <td>0.029371</td>\n",
       "    </tr>\n",
       "    <tr>\n",
       "      <th>2</th>\n",
       "      <td>0.047755</td>\n",
       "      <td>0.000000</td>\n",
       "      <td>0.041152</td>\n",
       "      <td>0.032782</td>\n",
       "      <td>0.030375</td>\n",
       "      <td>0.024596</td>\n",
       "      <td>0.000000</td>\n",
       "      <td>0.027089</td>\n",
       "      <td>0.056336</td>\n",
       "      <td>0.044258</td>\n",
       "    </tr>\n",
       "    <tr>\n",
       "      <th>3</th>\n",
       "      <td>0.000000</td>\n",
       "      <td>0.000000</td>\n",
       "      <td>0.056202</td>\n",
       "      <td>0.000000</td>\n",
       "      <td>0.041483</td>\n",
       "      <td>0.000000</td>\n",
       "      <td>0.000000</td>\n",
       "      <td>0.036995</td>\n",
       "      <td>0.038469</td>\n",
       "      <td>0.030222</td>\n",
       "    </tr>\n",
       "    <tr>\n",
       "      <th>4</th>\n",
       "      <td>0.031692</td>\n",
       "      <td>0.033254</td>\n",
       "      <td>0.054619</td>\n",
       "      <td>0.000000</td>\n",
       "      <td>0.000000</td>\n",
       "      <td>0.032645</td>\n",
       "      <td>0.038194</td>\n",
       "      <td>0.000000</td>\n",
       "      <td>0.000000</td>\n",
       "      <td>0.029371</td>\n",
       "    </tr>\n",
       "  </tbody>\n",
       "</table>\n",
       "</div>"
      ],
      "text/plain": [
       "     applic    design   develop    employ    provid    requir   respons  \\\n",
       "0  0.044218  0.046397  0.057155  0.030353  0.028125  0.022774  0.026645   \n",
       "1  0.031692  0.033254  0.054619  0.000000  0.000000  0.032645  0.038194   \n",
       "2  0.047755  0.000000  0.041152  0.032782  0.030375  0.024596  0.000000   \n",
       "3  0.000000  0.000000  0.056202  0.000000  0.041483  0.000000  0.000000   \n",
       "4  0.031692  0.033254  0.054619  0.000000  0.000000  0.032645  0.038194   \n",
       "\n",
       "     system      test      work  \n",
       "0  0.000000  0.078244  0.020490  \n",
       "1  0.000000  0.000000  0.029371  \n",
       "2  0.027089  0.056336  0.044258  \n",
       "3  0.036995  0.038469  0.030222  \n",
       "4  0.000000  0.000000  0.029371  "
      ]
     },
     "execution_count": 10,
     "metadata": {},
     "output_type": "execute_result"
    }
   ],
   "source": [
    "tf_idf_vectorizer = TfidfVectorizer(preprocessor=my_custom_preprocessor, use_idf=True) \n",
    "tf_idf_vectorizer.fit(cleaned_description) \n",
    "transformed_data = tf_idf_vectorizer.transform(cleaned_description) \n",
    "X_tfidf_df = pd.DataFrame(transformed_data.toarray(), columns=tf_idf_vectorizer.get_feature_names_out()) \n",
    "max_term = X_tfidf_df.sum().sort_values()[-10:].sort_index().index \n",
    "X_tfidf_df[max_term].head(5)"
   ]
  }
 ],
 "metadata": {
  "kernelspec": {
   "display_name": "se-482",
   "language": "python",
   "name": "python3"
  },
  "language_info": {
   "codemirror_mode": {
    "name": "ipython",
    "version": 3
   },
   "file_extension": ".py",
   "mimetype": "text/x-python",
   "name": "python",
   "nbconvert_exporter": "python",
   "pygments_lexer": "ipython3",
   "version": "3.11.5"
  }
 },
 "nbformat": 4,
 "nbformat_minor": 2
}
