{
 "cells": [
  {
   "cell_type": "markdown",
   "metadata": {},
   "source": [
    "# tf-idf -- page #39 - #42"
   ]
  },
  {
   "cell_type": "code",
   "execution_count": 1,
   "metadata": {},
   "outputs": [],
   "source": [
    "import numpy as np\n",
    "import pandas as pd\n",
    "from sklearn.feature_extraction.text import TfidfVectorizer"
   ]
  },
  {
   "cell_type": "code",
   "execution_count": 4,
   "metadata": {},
   "outputs": [],
   "source": [
    "arr = np.array([[100, 200, 200, 50], [90, 200, 300, 0], [5, 200, 10, 200]]) \n",
    "\n",
    "data = pd.DataFrame(arr, index=['DevOpsHandbook', 'ContinuousDelivery', 'DistributedComputing'], columns=['business', 'computer', 'git', 'parallel']) \n",
    "data = np.log10(data + 1)"
   ]
  },
  {
   "cell_type": "code",
   "execution_count": 5,
   "metadata": {},
   "outputs": [
    {
     "name": "stdout",
     "output_type": "stream",
     "text": [
      "14.939885194377617\n",
      "13.195777686137447\n",
      "9.410303606094942\n"
     ]
    }
   ],
   "source": [
    "print(data.loc['DevOpsHandbook'].dot(data.loc['ContinuousDelivery'])) \n",
    "print(data.loc['DevOpsHandbook'].dot(data.loc['DistributedComputing'])) \n",
    "print(data.loc['ContinuousDelivery'].dot(data.loc['DistributedComputing']))"
   ]
  },
  {
   "cell_type": "code",
   "execution_count": 6,
   "metadata": {},
   "outputs": [
    {
     "name": "stdout",
     "output_type": "stream",
     "text": [
      "|                      |   business |   computer |      git |   parallel |\n",
      "|:---------------------|-----------:|-----------:|---------:|-----------:|\n",
      "| DevOpsHandbook       |   0.478543 |   0.549901 | 0.549901 |   0.407692 |\n",
      "| ContinuousDelivery   |   0.501071 |   0.589096 | 0.633951 |   0        |\n",
      "| DistributedComputing |   0.221882 |   0.656732 | 0.296942 |   0.656732 |\n"
     ]
    }
   ],
   "source": [
    "data.loc['DevOpsHandbook'] /= np.sqrt((data.loc['DevOpsHandbook'] ** 2).sum()) \n",
    "data.loc['ContinuousDelivery'] /= np.sqrt((data.loc['ContinuousDelivery'] ** 2).sum()) \n",
    "data.loc['DistributedComputing'] /= np.sqrt((data.loc['DistributedComputing'] ** 2).sum()) \n",
    "print(data.to_markdown())"
   ]
  },
  {
   "cell_type": "code",
   "execution_count": 7,
   "metadata": {},
   "outputs": [
    {
     "name": "stdout",
     "output_type": "stream",
     "text": [
      "0.9123394651809295\n",
      "0.8983513789958276\n",
      "0.6863034317623423\n"
     ]
    }
   ],
   "source": [
    "print(data.loc['DevOpsHandbook'].dot(data.loc['ContinuousDelivery'])) \n",
    "print(data.loc['DevOpsHandbook'].dot(data.loc['DistributedComputing'])) \n",
    "print(data.loc['ContinuousDelivery'].dot(data.loc['DistributedComputing']))\n"
   ]
  }
 ],
 "metadata": {
  "kernelspec": {
   "display_name": "se-482",
   "language": "python",
   "name": "python3"
  },
  "language_info": {
   "codemirror_mode": {
    "name": "ipython",
    "version": 3
   },
   "file_extension": ".py",
   "mimetype": "text/x-python",
   "name": "python",
   "nbconvert_exporter": "python",
   "pygments_lexer": "ipython3",
   "version": "3.11.5"
  }
 },
 "nbformat": 4,
 "nbformat_minor": 2
}
