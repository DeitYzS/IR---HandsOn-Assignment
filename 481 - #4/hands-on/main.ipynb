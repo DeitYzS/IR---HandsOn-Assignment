{
 "cells": [
  {
   "cell_type": "code",
   "execution_count": 1,
   "metadata": {},
   "outputs": [],
   "source": [
    "import pandas as pd\n",
    "import os\n",
    "import re\n",
    "import itertools\n",
    "import string\n",
    "import multiprocessing\n",
    "\n",
    "from string import ascii_lowercase\n",
    "from nltk.tokenize import word_tokenize\n",
    "from multiprocessing.pool import ThreadPool\n",
    "from sklearn.feature_extraction.text import CountVectorizer"
   ]
  },
  {
   "cell_type": "code",
   "execution_count": 2,
   "metadata": {},
   "outputs": [],
   "source": [
    "def get_count(c,norvig_orig):\n",
    "    return norvig_orig.apply(lambda x: x.term.count(c) * x.freq, axis=1).sum()\n",
    "\n",
    "def preProcess(s):\n",
    "    s = s.lower()\n",
    "    s = re.sub(r'[^A-Za-z]', ' ', s)\n",
    "    s = re.sub(r'\\s+', ' ' , s)\n",
    "    s = word_tokenize(s)\n",
    "    return ' '.join(s)"
   ]
  },
  {
   "cell_type": "markdown",
   "metadata": {},
   "source": [
    "# (1) Prob tables generation -- between page #20 up to page #25"
   ]
  },
  {
   "cell_type": "code",
   "execution_count": 3,
   "metadata": {},
   "outputs": [
    {
     "data": {
      "text/html": [
       "<div>\n",
       "<style scoped>\n",
       "    .dataframe tbody tr th:only-of-type {\n",
       "        vertical-align: middle;\n",
       "    }\n",
       "\n",
       "    .dataframe tbody tr th {\n",
       "        vertical-align: top;\n",
       "    }\n",
       "\n",
       "    .dataframe thead th {\n",
       "        text-align: right;\n",
       "    }\n",
       "</style>\n",
       "<table border=\"1\" class=\"dataframe\">\n",
       "  <thead>\n",
       "    <tr style=\"text-align: right;\">\n",
       "      <th></th>\n",
       "      <th>word</th>\n",
       "      <th>frequency</th>\n",
       "      <th>P(w)</th>\n",
       "      <th>rank</th>\n",
       "    </tr>\n",
       "  </thead>\n",
       "  <tbody>\n",
       "    <tr>\n",
       "      <th>0</th>\n",
       "      <td>deet</td>\n",
       "      <td>420</td>\n",
       "      <td>4.193245e-07</td>\n",
       "      <td>5</td>\n",
       "    </tr>\n",
       "    <tr>\n",
       "      <th>1</th>\n",
       "      <td>deft</td>\n",
       "      <td>1240</td>\n",
       "      <td>1.238006e-06</td>\n",
       "      <td>4</td>\n",
       "    </tr>\n",
       "    <tr>\n",
       "      <th>2</th>\n",
       "      <td>defer</td>\n",
       "      <td>2237</td>\n",
       "      <td>2.233402e-06</td>\n",
       "      <td>3</td>\n",
       "    </tr>\n",
       "    <tr>\n",
       "      <th>3</th>\n",
       "      <td>defeat</td>\n",
       "      <td>21940</td>\n",
       "      <td>2.190471e-05</td>\n",
       "      <td>1</td>\n",
       "    </tr>\n",
       "    <tr>\n",
       "      <th>4</th>\n",
       "      <td>defect</td>\n",
       "      <td>3972</td>\n",
       "      <td>3.965612e-06</td>\n",
       "      <td>2</td>\n",
       "    </tr>\n",
       "  </tbody>\n",
       "</table>\n",
       "</div>"
      ],
      "text/plain": [
       "     word  frequency          P(w)  rank\n",
       "0    deet        420  4.193245e-07     5\n",
       "1    deft       1240  1.238006e-06     4\n",
       "2   defer       2237  2.233402e-06     3\n",
       "3  defeat      21940  2.190471e-05     1\n",
       "4  defect       3972  3.965612e-06     2"
      ]
     },
     "execution_count": 3,
     "metadata": {},
     "output_type": "execute_result"
    }
   ],
   "source": [
    "COCA = pd.DataFrame([['deet',420], ['deft',1240], ['defer', 2237], ['defeat',21940], ['defect',3972]], columns=['word','frequency'])\n",
    "COCA_pop = 1001610938\n",
    "COCA['P(w)'] = COCA['frequency']/COCA_pop\n",
    "COCA['rank'] = COCA['frequency'].rank(ascending=False, method='min').astype(int)\n",
    "COCA"
   ]
  },
  {
   "cell_type": "code",
   "execution_count": 4,
   "metadata": {},
   "outputs": [
    {
     "data": {
      "text/html": [
       "<div>\n",
       "<style scoped>\n",
       "    .dataframe tbody tr th:only-of-type {\n",
       "        vertical-align: middle;\n",
       "    }\n",
       "\n",
       "    .dataframe tbody tr th {\n",
       "        vertical-align: top;\n",
       "    }\n",
       "\n",
       "    .dataframe thead th {\n",
       "        text-align: right;\n",
       "    }\n",
       "</style>\n",
       "<table border=\"1\" class=\"dataframe\">\n",
       "  <thead>\n",
       "    <tr style=\"text-align: right;\">\n",
       "      <th></th>\n",
       "      <th>word</th>\n",
       "      <th>frequency</th>\n",
       "      <th>P(w)</th>\n",
       "      <th>rank</th>\n",
       "    </tr>\n",
       "  </thead>\n",
       "  <tbody>\n",
       "    <tr>\n",
       "      <th>0</th>\n",
       "      <td>deet</td>\n",
       "      <td>124</td>\n",
       "      <td>6.526316e-08</td>\n",
       "      <td>5</td>\n",
       "    </tr>\n",
       "    <tr>\n",
       "      <th>1</th>\n",
       "      <td>deft</td>\n",
       "      <td>814</td>\n",
       "      <td>4.284211e-07</td>\n",
       "      <td>4</td>\n",
       "    </tr>\n",
       "    <tr>\n",
       "      <th>2</th>\n",
       "      <td>defer</td>\n",
       "      <td>1416</td>\n",
       "      <td>7.452632e-07</td>\n",
       "      <td>3</td>\n",
       "    </tr>\n",
       "    <tr>\n",
       "      <th>3</th>\n",
       "      <td>defeat</td>\n",
       "      <td>121408</td>\n",
       "      <td>6.389895e-05</td>\n",
       "      <td>1</td>\n",
       "    </tr>\n",
       "    <tr>\n",
       "      <th>4</th>\n",
       "      <td>defect</td>\n",
       "      <td>7793</td>\n",
       "      <td>4.101579e-06</td>\n",
       "      <td>2</td>\n",
       "    </tr>\n",
       "  </tbody>\n",
       "</table>\n",
       "</div>"
      ],
      "text/plain": [
       "     word  frequency          P(w)  rank\n",
       "0    deet        124  6.526316e-08     5\n",
       "1    deft        814  4.284211e-07     4\n",
       "2   defer       1416  7.452632e-07     3\n",
       "3  defeat     121408  6.389895e-05     1\n",
       "4  defect       7793  4.101579e-06     2"
      ]
     },
     "execution_count": 4,
     "metadata": {},
     "output_type": "execute_result"
    }
   ],
   "source": [
    "WIKI = pd.DataFrame([['deet',124], ['deft',814], ['defer', 1416], ['defeat',121408], ['defect',7793]], columns=['word','frequency'])\n",
    "WIKI_pop = 1.9e9\n",
    "WIKI['P(w)'] = WIKI['frequency']/WIKI_pop\n",
    "WIKI['rank'] = WIKI['frequency'].rank(ascending=False, method='min').astype(int)\n",
    "WIKI"
   ]
  },
  {
   "cell_type": "code",
   "execution_count": 5,
   "metadata": {},
   "outputs": [],
   "source": [
    "topdir = '../resource/iula'\n",
    "all_content = []\n",
    "for dirpath, dirnames, filename in os.walk(topdir):\n",
    "    for name in filename:\n",
    "        if name.endswith('plain.txt'):\n",
    "            with open(os.path.join(dirpath, name)) as f:\n",
    "                all_content.append(f.read())\n",
    "\n",
    "processed_content = [preProcess(s) for s in all_content]"
   ]
  },
  {
   "cell_type": "code",
   "execution_count": 6,
   "metadata": {},
   "outputs": [
    {
     "name": "stdout",
     "output_type": "stream",
     "text": [
      "aa          34\n",
      "aaa          2\n",
      "aaaaaa       1\n",
      "aalborg      2\n",
      "aarhus       1\n",
      "            ..\n",
      "zvi          1\n",
      "zygosity     1\n",
      "zygote      10\n",
      "zygotes      5\n",
      "zygotic      2\n",
      "Length: 34019, dtype: int64\n"
     ]
    }
   ],
   "source": [
    "vectorizer = CountVectorizer()\n",
    "vectorizer.fit(processed_content)\n",
    "freq_iula = vectorizer.transform(processed_content)\n",
    "freq_iula = pd.DataFrame(freq_iula.todense(), columns=vectorizer.get_feature_names_out()).sum()\n",
    "\n",
    "print(freq_iula)"
   ]
  },
  {
   "cell_type": "code",
   "execution_count": 7,
   "metadata": {},
   "outputs": [
    {
     "name": "stdout",
     "output_type": "stream",
     "text": [
      "deet       0\n",
      "deft       0\n",
      "defer      1\n",
      "defect    59\n",
      "defeat     7\n",
      "dtype: int64\n"
     ]
    }
   ],
   "source": [
    "query = ['deet', 'deft', 'defer', 'defect', 'defeat']\n",
    "tranformed_query = [vectorizer.inverse_transform(vectorizer.transform([q])) for q in query]\n",
    "query_freq = pd.Series([freq_iula.T.loc[tq[0]].values[0] if len(tq[0]) > 0 else 0 for tq in tranformed_query], index= query)\n",
    "\n",
    "print(query_freq)"
   ]
  },
  {
   "cell_type": "code",
   "execution_count": 8,
   "metadata": {},
   "outputs": [],
   "source": [
    "IULA = pd.DataFrame(query_freq, columns=['frequency'])\n",
    "IULA_pop = len(processed_content)\n",
    "IULA['P(w)'] = IULA['frequency']/IULA_pop\n",
    "IULA['rank'] = IULA['frequency'].rank(ascending=False).astype(int)"
   ]
  },
  {
   "cell_type": "code",
   "execution_count": 9,
   "metadata": {},
   "outputs": [
    {
     "name": "stdout",
     "output_type": "stream",
     "text": [
      "      edit\n",
      "term      \n",
      "e|i    917\n",
      "a|e    856\n",
      "i|e    771\n",
      "e|a    749\n",
      "a|i    559\n"
     ]
    }
   ],
   "source": [
    "norvig = pd.read_csv('https://norvig.com/ngrams/count_1edit.txt',sep='\\t',encoding=\"ISO-8859-1\",header=None)\n",
    "norvig.columns = ['term', 'edit']\n",
    "norvig = norvig.set_index('term')\n",
    "print(norvig.head())"
   ]
  },
  {
   "cell_type": "code",
   "execution_count": 10,
   "metadata": {},
   "outputs": [
    {
     "name": "stdout",
     "output_type": "stream",
     "text": [
      "    term   freq\n",
      "0      a  21160\n",
      "1    aah      1\n",
      "2  aaron      5\n",
      "3     ab      2\n",
      "4  aback      3\n"
     ]
    }
   ],
   "source": [
    "norvig_orig = pd.read_csv('https://norvig.com/ngrams/count_big.txt',sep='\\t',encoding=\"ISO-8859-1\",header=None)\n",
    "norvig_orig = norvig_orig.dropna()\n",
    "norvig_orig.columns=['term','freq']\n",
    "print(norvig_orig.head())"
   ]
  },
  {
   "cell_type": "markdown",
   "metadata": {},
   "source": [
    "# (2) Update the tables with Norvig and calculate the final prob -- page #28 - page #33"
   ]
  },
  {
   "cell_type": "code",
   "execution_count": 11,
   "metadata": {},
   "outputs": [],
   "source": [
    "character_set = list(map(''.join, itertools.product(ascii_lowercase, repeat=1))) + list (map(''.join, itertools.product(ascii_lowercase, repeat=2)))\n",
    "\n",
    "pool = ThreadPool(8) \n",
    "freq_list = pool.starmap(get_count, zip(character_set, itertools.repeat(norvig_orig)))\n",
    "\n",
    "freq_df = pd.DataFrame([character_set, freq_list], index=['char', 'freq']).T\n",
    "freq_df = freq_df.set_index('char')"
   ]
  },
  {
   "cell_type": "code",
   "execution_count": 12,
   "metadata": {},
   "outputs": [
    {
     "data": {
      "text/html": [
       "<div>\n",
       "<style scoped>\n",
       "    .dataframe tbody tr th:only-of-type {\n",
       "        vertical-align: middle;\n",
       "    }\n",
       "\n",
       "    .dataframe tbody tr th {\n",
       "        vertical-align: top;\n",
       "    }\n",
       "\n",
       "    .dataframe thead th {\n",
       "        text-align: right;\n",
       "    }\n",
       "</style>\n",
       "<table border=\"1\" class=\"dataframe\">\n",
       "  <thead>\n",
       "    <tr style=\"text-align: right;\">\n",
       "      <th></th>\n",
       "      <th>word</th>\n",
       "      <th>frequency</th>\n",
       "      <th>P(w)</th>\n",
       "      <th>rank</th>\n",
       "      <th>P(x|w)</th>\n",
       "      <th>109 P(x|w)P(w)</th>\n",
       "    </tr>\n",
       "  </thead>\n",
       "  <tbody>\n",
       "    <tr>\n",
       "      <th>0</th>\n",
       "      <td>deet</td>\n",
       "      <td>420</td>\n",
       "      <td>4.193245e-07</td>\n",
       "      <td>5</td>\n",
       "      <td>0.000000</td>\n",
       "      <td>0.000000</td>\n",
       "    </tr>\n",
       "    <tr>\n",
       "      <th>1</th>\n",
       "      <td>deft</td>\n",
       "      <td>1240</td>\n",
       "      <td>1.238006e-06</td>\n",
       "      <td>4</td>\n",
       "      <td>0.000003</td>\n",
       "      <td>0.003912</td>\n",
       "    </tr>\n",
       "    <tr>\n",
       "      <th>2</th>\n",
       "      <td>defer</td>\n",
       "      <td>2237</td>\n",
       "      <td>2.233402e-06</td>\n",
       "      <td>3</td>\n",
       "      <td>0.000036</td>\n",
       "      <td>0.079366</td>\n",
       "    </tr>\n",
       "    <tr>\n",
       "      <th>3</th>\n",
       "      <td>defeat</td>\n",
       "      <td>21940</td>\n",
       "      <td>2.190471e-05</td>\n",
       "      <td>1</td>\n",
       "      <td>0.012834</td>\n",
       "      <td>281.124909</td>\n",
       "    </tr>\n",
       "    <tr>\n",
       "      <th>4</th>\n",
       "      <td>defect</td>\n",
       "      <td>3972</td>\n",
       "      <td>3.965612e-06</td>\n",
       "      <td>2</td>\n",
       "      <td>0.003167</td>\n",
       "      <td>12.558705</td>\n",
       "    </tr>\n",
       "  </tbody>\n",
       "</table>\n",
       "</div>"
      ],
      "text/plain": [
       "     word  frequency          P(w)  rank    P(x|w)  109 P(x|w)P(w)\n",
       "0    deet        420  4.193245e-07     5  0.000000        0.000000\n",
       "1    deft       1240  1.238006e-06     4  0.000003        0.003912\n",
       "2   defer       2237  2.233402e-06     3  0.000036        0.079366\n",
       "3  defeat      21940  2.190471e-05     1  0.012834      281.124909\n",
       "4  defect       3972  3.965612e-06     2  0.003167       12.558705"
      ]
     },
     "execution_count": 12,
     "metadata": {},
     "output_type": "execute_result"
    }
   ],
   "source": [
    "COCA['P(x|w)'] = [\n",
    "    (0 / freq_df.loc['f'].values)[0], #deet\n",
    "    (norvig.loc['e| '].values / freq_df.loc['e'].values)[0], #deft\n",
    "    (norvig.loc['t|r'].values / freq_df.loc['r'].values)[0], #defer\n",
    "    (norvig.loc['e|ea'].values / freq_df.loc['ea'].values)[0], #defeat\n",
    "    (norvig.loc['e|ec'].values / freq_df.loc['ec'].values)[0] #defect\n",
    "]\n",
    "COCA['109 P(x|w)P(w)'] = 1e9 * COCA['P(w)'] * COCA['P(x|w)']\n",
    "COCA"
   ]
  },
  {
   "cell_type": "code",
   "execution_count": 13,
   "metadata": {},
   "outputs": [
    {
     "data": {
      "text/html": [
       "<div>\n",
       "<style scoped>\n",
       "    .dataframe tbody tr th:only-of-type {\n",
       "        vertical-align: middle;\n",
       "    }\n",
       "\n",
       "    .dataframe tbody tr th {\n",
       "        vertical-align: top;\n",
       "    }\n",
       "\n",
       "    .dataframe thead th {\n",
       "        text-align: right;\n",
       "    }\n",
       "</style>\n",
       "<table border=\"1\" class=\"dataframe\">\n",
       "  <thead>\n",
       "    <tr style=\"text-align: right;\">\n",
       "      <th></th>\n",
       "      <th>frequency</th>\n",
       "      <th>P(w)</th>\n",
       "      <th>rank</th>\n",
       "      <th>P(x|w)</th>\n",
       "      <th>109 P(x|w)P(w)</th>\n",
       "    </tr>\n",
       "  </thead>\n",
       "  <tbody>\n",
       "    <tr>\n",
       "      <th>deet</th>\n",
       "      <td>0</td>\n",
       "      <td>0.000000</td>\n",
       "      <td>4</td>\n",
       "      <td>NaN</td>\n",
       "      <td>NaN</td>\n",
       "    </tr>\n",
       "    <tr>\n",
       "      <th>deft</th>\n",
       "      <td>0</td>\n",
       "      <td>0.000000</td>\n",
       "      <td>4</td>\n",
       "      <td>NaN</td>\n",
       "      <td>NaN</td>\n",
       "    </tr>\n",
       "    <tr>\n",
       "      <th>defer</th>\n",
       "      <td>1</td>\n",
       "      <td>0.007812</td>\n",
       "      <td>3</td>\n",
       "      <td>NaN</td>\n",
       "      <td>NaN</td>\n",
       "    </tr>\n",
       "    <tr>\n",
       "      <th>defect</th>\n",
       "      <td>59</td>\n",
       "      <td>0.460938</td>\n",
       "      <td>1</td>\n",
       "      <td>NaN</td>\n",
       "      <td>NaN</td>\n",
       "    </tr>\n",
       "    <tr>\n",
       "      <th>defeat</th>\n",
       "      <td>7</td>\n",
       "      <td>0.054688</td>\n",
       "      <td>2</td>\n",
       "      <td>NaN</td>\n",
       "      <td>NaN</td>\n",
       "    </tr>\n",
       "  </tbody>\n",
       "</table>\n",
       "</div>"
      ],
      "text/plain": [
       "        frequency      P(w)  rank  P(x|w)  109 P(x|w)P(w)\n",
       "deet            0  0.000000     4     NaN             NaN\n",
       "deft            0  0.000000     4     NaN             NaN\n",
       "defer           1  0.007812     3     NaN             NaN\n",
       "defect         59  0.460938     1     NaN             NaN\n",
       "defeat          7  0.054688     2     NaN             NaN"
      ]
     },
     "execution_count": 13,
     "metadata": {},
     "output_type": "execute_result"
    }
   ],
   "source": [
    "IULA['P(x|w)'] = COCA['P(x|w)']\n",
    "IULA['109 P(x|w)P(w)'] = 1e9 * IULA['P(w)'] * IULA['P(x|w)']\n",
    "IULA"
   ]
  }
 ],
 "metadata": {
  "kernelspec": {
   "display_name": "se-482",
   "language": "python",
   "name": "python3"
  },
  "language_info": {
   "codemirror_mode": {
    "name": "ipython",
    "version": 3
   },
   "file_extension": ".py",
   "mimetype": "text/x-python",
   "name": "python",
   "nbconvert_exporter": "python",
   "pygments_lexer": "ipython3",
   "version": "3.11.5"
  }
 },
 "nbformat": 4,
 "nbformat_minor": 2
}
