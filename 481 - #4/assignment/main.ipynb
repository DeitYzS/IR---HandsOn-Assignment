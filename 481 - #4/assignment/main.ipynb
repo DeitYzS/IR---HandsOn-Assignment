{
 "cells": [
  {
   "cell_type": "markdown",
   "metadata": {},
   "source": [
    "### Created By Dusit Chunviset (642115017)"
   ]
  },
  {
   "cell_type": "code",
   "execution_count": 1,
   "metadata": {},
   "outputs": [],
   "source": [
    "import pandas as pd\n",
    "import os\n",
    "import re\n",
    "import itertools\n",
    "import string\n",
    "import multiprocessing\n",
    "\n",
    "from string import ascii_lowercase\n",
    "from nltk.tokenize import word_tokenize\n",
    "from multiprocessing.pool import ThreadPool\n",
    "from sklearn.feature_extraction.text import CountVectorizer"
   ]
  },
  {
   "cell_type": "code",
   "execution_count": 2,
   "metadata": {},
   "outputs": [],
   "source": [
    "def get_count(c,norvig_orig):\n",
    "    return norvig_orig.apply(lambda x: x.term.count(c) * x.freq, axis=1).sum()\n",
    "\n",
    "def preProcess(s):\n",
    "    s = s.lower()\n",
    "    s = re.sub(r'[^A-Za-z]', ' ', s)\n",
    "    s = re.sub(r'\\s+', ' ' , s)\n",
    "    s = word_tokenize(s)\n",
    "    return ' '.join(s)"
   ]
  },
  {
   "cell_type": "markdown",
   "metadata": {},
   "source": [
    "# Spell Correction\n",
    "Mispelled word: shell </br>\n",
    "words 1: shall </br>\n",
    "words 2: shull </br>\n",
    "words 3: shil </br>\n",
    "words 4: shout </br>\n",
    "words 5: shalled </br>"
   ]
  },
  {
   "cell_type": "code",
   "execution_count": 3,
   "metadata": {},
   "outputs": [
    {
     "data": {
      "text/html": [
       "<div>\n",
       "<style scoped>\n",
       "    .dataframe tbody tr th:only-of-type {\n",
       "        vertical-align: middle;\n",
       "    }\n",
       "\n",
       "    .dataframe tbody tr th {\n",
       "        vertical-align: top;\n",
       "    }\n",
       "\n",
       "    .dataframe thead th {\n",
       "        text-align: right;\n",
       "    }\n",
       "</style>\n",
       "<table border=\"1\" class=\"dataframe\">\n",
       "  <thead>\n",
       "    <tr style=\"text-align: right;\">\n",
       "      <th></th>\n",
       "      <th>word</th>\n",
       "      <th>frequency</th>\n",
       "      <th>P(w)</th>\n",
       "      <th>rank</th>\n",
       "    </tr>\n",
       "  </thead>\n",
       "  <tbody>\n",
       "    <tr>\n",
       "      <th>0</th>\n",
       "      <td>shall</td>\n",
       "      <td>55200</td>\n",
       "      <td>0.000055</td>\n",
       "      <td>1</td>\n",
       "    </tr>\n",
       "    <tr>\n",
       "      <th>1</th>\n",
       "      <td>shull</td>\n",
       "      <td>12140</td>\n",
       "      <td>0.000012</td>\n",
       "      <td>3</td>\n",
       "    </tr>\n",
       "    <tr>\n",
       "      <th>2</th>\n",
       "      <td>shil</td>\n",
       "      <td>2237</td>\n",
       "      <td>0.000002</td>\n",
       "      <td>5</td>\n",
       "    </tr>\n",
       "    <tr>\n",
       "      <th>3</th>\n",
       "      <td>shout</td>\n",
       "      <td>21520</td>\n",
       "      <td>0.000021</td>\n",
       "      <td>2</td>\n",
       "    </tr>\n",
       "    <tr>\n",
       "      <th>4</th>\n",
       "      <td>shale</td>\n",
       "      <td>3972</td>\n",
       "      <td>0.000004</td>\n",
       "      <td>4</td>\n",
       "    </tr>\n",
       "  </tbody>\n",
       "</table>\n",
       "</div>"
      ],
      "text/plain": [
       "    word  frequency      P(w)  rank\n",
       "0  shall      55200  0.000055     1\n",
       "1  shull      12140  0.000012     3\n",
       "2   shil       2237  0.000002     5\n",
       "3  shout      21520  0.000021     2\n",
       "4  shale       3972  0.000004     4"
      ]
     },
     "execution_count": 3,
     "metadata": {},
     "output_type": "execute_result"
    }
   ],
   "source": [
    "COCA = pd.DataFrame([['shall',55200], ['shull',12140], ['shil', 2237], ['shout',21520], ['shale',3972]], columns=['word','frequency'])\n",
    "COCA_pop = 1001610938\n",
    "COCA['P(w)'] = COCA['frequency']/COCA_pop\n",
    "COCA['rank'] = COCA['frequency'].rank(ascending=False, method='min').astype(int)\n",
    "COCA"
   ]
  },
  {
   "cell_type": "code",
   "execution_count": 4,
   "metadata": {},
   "outputs": [
    {
     "data": {
      "text/html": [
       "<div>\n",
       "<style scoped>\n",
       "    .dataframe tbody tr th:only-of-type {\n",
       "        vertical-align: middle;\n",
       "    }\n",
       "\n",
       "    .dataframe tbody tr th {\n",
       "        vertical-align: top;\n",
       "    }\n",
       "\n",
       "    .dataframe thead th {\n",
       "        text-align: right;\n",
       "    }\n",
       "</style>\n",
       "<table border=\"1\" class=\"dataframe\">\n",
       "  <thead>\n",
       "    <tr style=\"text-align: right;\">\n",
       "      <th></th>\n",
       "      <th>word</th>\n",
       "      <th>frequency</th>\n",
       "      <th>P(w)</th>\n",
       "      <th>rank</th>\n",
       "    </tr>\n",
       "  </thead>\n",
       "  <tbody>\n",
       "    <tr>\n",
       "      <th>0</th>\n",
       "      <td>shall</td>\n",
       "      <td>55200</td>\n",
       "      <td>0.000029</td>\n",
       "      <td>1</td>\n",
       "    </tr>\n",
       "    <tr>\n",
       "      <th>1</th>\n",
       "      <td>shull</td>\n",
       "      <td>12140</td>\n",
       "      <td>0.000006</td>\n",
       "      <td>3</td>\n",
       "    </tr>\n",
       "    <tr>\n",
       "      <th>2</th>\n",
       "      <td>shil</td>\n",
       "      <td>2237</td>\n",
       "      <td>0.000001</td>\n",
       "      <td>5</td>\n",
       "    </tr>\n",
       "    <tr>\n",
       "      <th>3</th>\n",
       "      <td>shout</td>\n",
       "      <td>21520</td>\n",
       "      <td>0.000011</td>\n",
       "      <td>2</td>\n",
       "    </tr>\n",
       "    <tr>\n",
       "      <th>4</th>\n",
       "      <td>shale</td>\n",
       "      <td>3972</td>\n",
       "      <td>0.000002</td>\n",
       "      <td>4</td>\n",
       "    </tr>\n",
       "  </tbody>\n",
       "</table>\n",
       "</div>"
      ],
      "text/plain": [
       "    word  frequency      P(w)  rank\n",
       "0  shall      55200  0.000029     1\n",
       "1  shull      12140  0.000006     3\n",
       "2   shil       2237  0.000001     5\n",
       "3  shout      21520  0.000011     2\n",
       "4  shale       3972  0.000002     4"
      ]
     },
     "execution_count": 4,
     "metadata": {},
     "output_type": "execute_result"
    }
   ],
   "source": [
    "WIKI = pd.DataFrame([['shall',55200], ['shull',12140], ['shil', 2237], ['shout',21520], ['shale',3972]], columns=['word','frequency'])\n",
    "WIKI_pop = 1.9e9\n",
    "WIKI['P(w)'] = WIKI['frequency']/WIKI_pop\n",
    "WIKI['rank'] = WIKI['frequency'].rank(ascending=False, method='min').astype(int)\n",
    "WIKI"
   ]
  },
  {
   "cell_type": "code",
   "execution_count": 5,
   "metadata": {},
   "outputs": [],
   "source": [
    "topdir = '../resource/iula'\n",
    "all_content = []\n",
    "for dirpath, dirnames, filename in os.walk(topdir):\n",
    "    for name in filename:\n",
    "        if name.endswith('plain.txt'):\n",
    "            with open(os.path.join(dirpath, name)) as f:\n",
    "                all_content.append(f.read())\n",
    "\n",
    "processed_content = [preProcess(s) for s in all_content]"
   ]
  },
  {
   "cell_type": "code",
   "execution_count": 6,
   "metadata": {},
   "outputs": [
    {
     "name": "stdout",
     "output_type": "stream",
     "text": [
      "aa          34\n",
      "aaa          2\n",
      "aaaaaa       1\n",
      "aalborg      2\n",
      "aarhus       1\n",
      "            ..\n",
      "zvi          1\n",
      "zygosity     1\n",
      "zygote      10\n",
      "zygotes      5\n",
      "zygotic      2\n",
      "Length: 34019, dtype: int64\n"
     ]
    }
   ],
   "source": [
    "vectorizer = CountVectorizer()\n",
    "vectorizer.fit(processed_content)\n",
    "freq_iula = vectorizer.transform(processed_content)\n",
    "freq_iula = pd.DataFrame(freq_iula.todense(), columns=vectorizer.get_feature_names_out()).sum()\n",
    "\n",
    "print(freq_iula)"
   ]
  },
  {
   "cell_type": "code",
   "execution_count": 7,
   "metadata": {},
   "outputs": [
    {
     "name": "stdout",
     "output_type": "stream",
     "text": [
      "shall    910\n",
      "shull      0\n",
      "shil       0\n",
      "shout      1\n",
      "shale      0\n",
      "dtype: int64\n"
     ]
    }
   ],
   "source": [
    "query = ['shall', 'shull', 'shil', 'shout', 'shale']\n",
    "tranformed_query = [vectorizer.inverse_transform(vectorizer.transform([q])) for q in query]\n",
    "query_freq = pd.Series([freq_iula.T.loc[tq[0]].values[0] if len(tq[0]) > 0 else 0 for tq in tranformed_query], index= query)\n",
    "\n",
    "print(query_freq)"
   ]
  },
  {
   "cell_type": "code",
   "execution_count": 8,
   "metadata": {},
   "outputs": [],
   "source": [
    "IULA = pd.DataFrame(query_freq, columns=['frequency'])\n",
    "IULA_pop = len(processed_content)\n",
    "IULA['P(w)'] = IULA['frequency']/IULA_pop\n",
    "IULA['rank'] = IULA['frequency'].rank(ascending=False).astype(int)\n",
    "IULA"
   ]
  },
  {
   "cell_type": "code",
   "execution_count": 9,
   "metadata": {},
   "outputs": [
    {
     "name": "stdout",
     "output_type": "stream",
     "text": [
      "      edit\n",
      "term      \n",
      "e|i    917\n",
      "a|e    856\n",
      "i|e    771\n",
      "e|a    749\n",
      "a|i    559\n"
     ]
    }
   ],
   "source": [
    "norvig = pd.read_csv('https://norvig.com/ngrams/count_1edit.txt',sep='\\t',encoding=\"ISO-8859-1\",header=None)\n",
    "norvig.columns = ['term', 'edit']\n",
    "norvig = norvig.set_index('term')\n",
    "print(norvig.head())"
   ]
  },
  {
   "cell_type": "code",
   "execution_count": 10,
   "metadata": {},
   "outputs": [
    {
     "name": "stdout",
     "output_type": "stream",
     "text": [
      "    term   freq\n",
      "0      a  21160\n",
      "1    aah      1\n",
      "2  aaron      5\n",
      "3     ab      2\n",
      "4  aback      3\n"
     ]
    }
   ],
   "source": [
    "norvig_orig = pd.read_csv('https://norvig.com/ngrams/count_big.txt',sep='\\t',encoding=\"ISO-8859-1\",header=None)\n",
    "norvig_orig = norvig_orig.dropna()\n",
    "norvig_orig.columns=['term','freq']\n",
    "print(norvig_orig.head())"
   ]
  },
  {
   "cell_type": "code",
   "execution_count": 11,
   "metadata": {},
   "outputs": [],
   "source": [
    "character_set = list(map(''.join, itertools.product(ascii_lowercase, repeat=1))) + list (map(''.join, itertools.product(ascii_lowercase, repeat=2)))\n",
    "\n",
    "pool = ThreadPool(8) \n",
    "freq_list = pool.starmap(get_count, zip(character_set, itertools.repeat(norvig_orig)))\n",
    "\n",
    "freq_df = pd.DataFrame([character_set, freq_list], index=['char', 'freq']).T\n",
    "freq_df = freq_df.set_index('char')"
   ]
  },
  {
   "cell_type": "code",
   "execution_count": 12,
   "metadata": {},
   "outputs": [
    {
     "data": {
      "text/html": [
       "<div>\n",
       "<style scoped>\n",
       "    .dataframe tbody tr th:only-of-type {\n",
       "        vertical-align: middle;\n",
       "    }\n",
       "\n",
       "    .dataframe tbody tr th {\n",
       "        vertical-align: top;\n",
       "    }\n",
       "\n",
       "    .dataframe thead th {\n",
       "        text-align: right;\n",
       "    }\n",
       "</style>\n",
       "<table border=\"1\" class=\"dataframe\">\n",
       "  <thead>\n",
       "    <tr style=\"text-align: right;\">\n",
       "      <th></th>\n",
       "      <th>word</th>\n",
       "      <th>frequency</th>\n",
       "      <th>P(w)</th>\n",
       "      <th>rank</th>\n",
       "      <th>P(x|w)</th>\n",
       "    </tr>\n",
       "  </thead>\n",
       "  <tbody>\n",
       "    <tr>\n",
       "      <th>0</th>\n",
       "      <td>shall</td>\n",
       "      <td>55200</td>\n",
       "      <td>0.000055</td>\n",
       "      <td>1</td>\n",
       "      <td>0.000032</td>\n",
       "    </tr>\n",
       "    <tr>\n",
       "      <th>1</th>\n",
       "      <td>shull</td>\n",
       "      <td>12140</td>\n",
       "      <td>0.000012</td>\n",
       "      <td>3</td>\n",
       "      <td>0.000036</td>\n",
       "    </tr>\n",
       "    <tr>\n",
       "      <th>2</th>\n",
       "      <td>shil</td>\n",
       "      <td>2237</td>\n",
       "      <td>0.000002</td>\n",
       "      <td>5</td>\n",
       "      <td>0.000016</td>\n",
       "    </tr>\n",
       "    <tr>\n",
       "      <th>3</th>\n",
       "      <td>shout</td>\n",
       "      <td>21520</td>\n",
       "      <td>0.000021</td>\n",
       "      <td>2</td>\n",
       "      <td>0.003091</td>\n",
       "    </tr>\n",
       "    <tr>\n",
       "      <th>4</th>\n",
       "      <td>shale</td>\n",
       "      <td>3972</td>\n",
       "      <td>0.000004</td>\n",
       "      <td>4</td>\n",
       "      <td>0.000019</td>\n",
       "    </tr>\n",
       "  </tbody>\n",
       "</table>\n",
       "</div>"
      ],
      "text/plain": [
       "    word  frequency      P(w)  rank    P(x|w)\n",
       "0  shall      55200  0.000055     1  0.000032\n",
       "1  shull      12140  0.000012     3  0.000036\n",
       "2   shil       2237  0.000002     5  0.000016\n",
       "3  shout      21520  0.000021     2  0.003091\n",
       "4  shale       3972  0.000004     4  0.000019"
      ]
     },
     "execution_count": 12,
     "metadata": {},
     "output_type": "execute_result"
    }
   ],
   "source": [
    "COCA['P(x|w)'] = [\n",
    "    (norvig.loc['s|a'].values / freq_df.loc['a'].values)[0], #shall\n",
    "    (norvig.loc['s|u'].values / freq_df.loc['u'].values)[0], #shull\n",
    "    (norvig.loc['s|i'].values / freq_df.loc['i'].values)[0], #shil\n",
    "    (norvig.loc['s|t'].values / freq_df.loc['ut'].values)[0], #shout\n",
    "    (norvig.loc['s|e'].values / freq_df.loc['e'].values)[0] #shale\n",
    "]\n",
    "COCA"
   ]
  },
  {
   "cell_type": "code",
   "execution_count": 13,
   "metadata": {},
   "outputs": [
    {
     "data": {
      "text/html": [
       "<div>\n",
       "<style scoped>\n",
       "    .dataframe tbody tr th:only-of-type {\n",
       "        vertical-align: middle;\n",
       "    }\n",
       "\n",
       "    .dataframe tbody tr th {\n",
       "        vertical-align: top;\n",
       "    }\n",
       "\n",
       "    .dataframe thead th {\n",
       "        text-align: right;\n",
       "    }\n",
       "</style>\n",
       "<table border=\"1\" class=\"dataframe\">\n",
       "  <thead>\n",
       "    <tr style=\"text-align: right;\">\n",
       "      <th></th>\n",
       "      <th>word</th>\n",
       "      <th>frequency</th>\n",
       "      <th>P(w)</th>\n",
       "      <th>rank</th>\n",
       "      <th>P(x|w)</th>\n",
       "      <th>109 P(x|w)P(w)</th>\n",
       "    </tr>\n",
       "  </thead>\n",
       "  <tbody>\n",
       "    <tr>\n",
       "      <th>0</th>\n",
       "      <td>shall</td>\n",
       "      <td>55200</td>\n",
       "      <td>0.000055</td>\n",
       "      <td>1</td>\n",
       "      <td>0.000032</td>\n",
       "      <td>1.758801</td>\n",
       "    </tr>\n",
       "    <tr>\n",
       "      <th>1</th>\n",
       "      <td>shull</td>\n",
       "      <td>12140</td>\n",
       "      <td>0.000012</td>\n",
       "      <td>3</td>\n",
       "      <td>0.000036</td>\n",
       "      <td>0.436881</td>\n",
       "    </tr>\n",
       "    <tr>\n",
       "      <th>2</th>\n",
       "      <td>shil</td>\n",
       "      <td>2237</td>\n",
       "      <td>0.000002</td>\n",
       "      <td>5</td>\n",
       "      <td>0.000016</td>\n",
       "      <td>0.036651</td>\n",
       "    </tr>\n",
       "    <tr>\n",
       "      <th>3</th>\n",
       "      <td>shout</td>\n",
       "      <td>21520</td>\n",
       "      <td>0.000021</td>\n",
       "      <td>2</td>\n",
       "      <td>0.003091</td>\n",
       "      <td>66.401736</td>\n",
       "    </tr>\n",
       "    <tr>\n",
       "      <th>4</th>\n",
       "      <td>shale</td>\n",
       "      <td>3972</td>\n",
       "      <td>0.000004</td>\n",
       "      <td>4</td>\n",
       "      <td>0.000019</td>\n",
       "      <td>0.075178</td>\n",
       "    </tr>\n",
       "  </tbody>\n",
       "</table>\n",
       "</div>"
      ],
      "text/plain": [
       "    word  frequency      P(w)  rank    P(x|w)  109 P(x|w)P(w)\n",
       "0  shall      55200  0.000055     1  0.000032        1.758801\n",
       "1  shull      12140  0.000012     3  0.000036        0.436881\n",
       "2   shil       2237  0.000002     5  0.000016        0.036651\n",
       "3  shout      21520  0.000021     2  0.003091       66.401736\n",
       "4  shale       3972  0.000004     4  0.000019        0.075178"
      ]
     },
     "execution_count": 13,
     "metadata": {},
     "output_type": "execute_result"
    }
   ],
   "source": [
    "COCA['109 P(x|w)P(w)'] = 1e9 * COCA['P(w)'] * COCA['P(x|w)']\n",
    "COCA"
   ]
  }
 ],
 "metadata": {
  "kernelspec": {
   "display_name": "se-482",
   "language": "python",
   "name": "python3"
  },
  "language_info": {
   "codemirror_mode": {
    "name": "ipython",
    "version": 3
   },
   "file_extension": ".py",
   "mimetype": "text/x-python",
   "name": "python",
   "nbconvert_exporter": "python",
   "pygments_lexer": "ipython3",
   "version": "3.11.5"
  }
 },
 "nbformat": 4,
 "nbformat_minor": 2
}
