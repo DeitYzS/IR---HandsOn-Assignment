{
 "cells": [
  {
   "cell_type": "code",
   "execution_count": 1,
   "metadata": {},
   "outputs": [],
   "source": [
    "import string\n",
    "import timeit\n",
    "\n",
    "import numpy as np\n",
    "from nltk.tokenize import word_tokenize\n",
    "from nltk.corpus import stopwords\n",
    "from nltk.stem import PorterStemmer\n",
    "import pandas as pd\n",
    "import re"
   ]
  },
  {
   "cell_type": "code",
   "execution_count": 2,
   "metadata": {},
   "outputs": [],
   "source": [
    "def get_and_clean_data():\n",
    "    data = pd.read_csv('./resource/software_developer_united_states_1971_20191023_1.csv')\n",
    "    description = data['job_description']\n",
    "    cleaned_description = description.apply(lambda s: s.translate(str.maketrans('', '', string.punctuation + u'\\xa0')))\n",
    "    cleaned_description = cleaned_description.apply(lambda s: s.lower())\n",
    "    cleaned_description = cleaned_description.apply(lambda s: s.translate(str.maketrans(string.whitespace, ' '*len(string.whitespace), '')))\n",
    "    cleaned_description = cleaned_description.drop_duplicates()\n",
    "    return cleaned_description"
   ]
  },
  {
   "cell_type": "code",
   "execution_count": 3,
   "metadata": {},
   "outputs": [],
   "source": [
    "\n",
    "cleaned_description = get_and_clean_data()[:1000]\n",
    "\n",
    "cleaned_description = cleaned_description.apply(lambda s: re.sub(r'[^A-Za-z]', ' ', s))\n",
    "cleaned_description = cleaned_description.apply(lambda s: re.sub(r'\\s+',' ', s))\n",
    "\n",
    "tokenized_description = cleaned_description.apply(lambda s: word_tokenize(s))\n",
    "\n",
    "stop_dict = set(stopwords.words())\n",
    "sw_removed_description = tokenized_description.apply(lambda s: set(s) - stop_dict)\n",
    "sw_removed_description = sw_removed_description.apply(lambda s: [word for word in s if len(word)>2])\n",
    "\n",
    "concated = np.unique(np.concatenate([s for s in tokenized_description.values]))\n",
    "stem_cache = {}\n",
    "ps = PorterStemmer()\n",
    "for s in concated: \n",
    "    stem_cache[s] = ps.stem(s)\n",
    "\n",
    "stemmed_description = sw_removed_description.apply(lambda s: [stem_cache[w] for w in s])\n"
   ]
  },
  {
   "cell_type": "code",
   "execution_count": 16,
   "metadata": {},
   "outputs": [
    {
     "name": "stdout",
     "output_type": "stream",
     "text": [
      "     aa  aaa  aadairstrategicstaffcom  aaeeo  aampt  aapeeo  aau  ab  abap  \\\n",
      "0     0    0                        0      0      0       0    0   0     0   \n",
      "1     0    0                        0      0      0       0    0   0     0   \n",
      "2     0    0                        0      0      0       0    0   0     0   \n",
      "3     0    0                        0      0      0       0    0   0     0   \n",
      "4     0    0                        0      0      0       0    0   0     0   \n",
      "..   ..  ...                      ...    ...    ...     ...  ...  ..   ...   \n",
      "995   0    0                        0      0      0       0    0   0     0   \n",
      "996   0    0                        0      0      0       0    0   0     0   \n",
      "997   0    0                        0      0      0       0    0   0     0   \n",
      "998   0    0                        0      0      0       0    0   0     0   \n",
      "999   0    0                        0      0      0       0    0   0     0   \n",
      "\n",
      "     abapworkflow  ...  zeromq  zigbe  zip  zipkin  zone  zookeep  zoom  \\\n",
      "0               0  ...       0      0    0       0     0        0     0   \n",
      "1               0  ...       0      0    0       0     0        0     0   \n",
      "2               0  ...       0      0    0       0     0        0     0   \n",
      "3               0  ...       0      0    0       0     0        0     0   \n",
      "4               0  ...       0      0    0       0     0        0     0   \n",
      "..            ...  ...     ...    ...  ...     ...   ...      ...   ...   \n",
      "995             0  ...       0      0    0       0     0        0     0   \n",
      "996             0  ...       0      0    0       0     0        0     0   \n",
      "997             0  ...       0      0    0       0     0        0     0   \n",
      "998             0  ...       0      0    0       0     0        0     0   \n",
      "999             0  ...       0      0    0       0     0        0     0   \n",
      "\n",
      "     zumba  zuora  zuul  \n",
      "0        0      0     0  \n",
      "1        0      0     0  \n",
      "2        0      0     0  \n",
      "3        0      0     0  \n",
      "4        0      0     0  \n",
      "..     ...    ...   ...  \n",
      "995      0      0     0  \n",
      "996      0      0     0  \n",
      "997      0      0     0  \n",
      "998      0      0     0  \n",
      "999      0      0     0  \n",
      "\n",
      "[1000 rows x 9443 columns]\n"
     ]
    }
   ],
   "source": [
    "from sklearn.feature_extraction.text import CountVectorizer\n",
    "cv = CountVectorizer(analyzer=lambda x: x)\n",
    "X = cv.fit_transform(stemmed_description)\n",
    "print(pd.DataFrame(X.toarray(), columns=cv.get_feature_names_out()))"
   ]
  },
  {
   "cell_type": "code",
   "execution_count": 17,
   "metadata": {},
   "outputs": [
    {
     "name": "stdout",
     "output_type": "stream",
     "text": [
      "  (0, 6883)\t1\n",
      "  (0, 6381)\t1\n",
      "  (0, 6063)\t1\n",
      "  (0, 8732)\t1\n",
      "  (0, 2213)\t3\n",
      "  (0, 5153)\t1\n",
      "  (0, 1495)\t1\n",
      "  (0, 4803)\t1\n",
      "  (0, 7010)\t1\n",
      "  (0, 7054)\t2\n",
      "  (0, 6059)\t1\n",
      "  (0, 2963)\t1\n",
      "  (0, 461)\t1\n",
      "  (0, 7494)\t1\n",
      "  (0, 8025)\t1\n",
      "  (0, 2109)\t1\n",
      "  (0, 1480)\t1\n",
      "  (0, 2738)\t2\n",
      "  (0, 8505)\t2\n",
      "  (0, 754)\t1\n",
      "  (0, 2338)\t1\n",
      "  (0, 4481)\t1\n",
      "  (0, 6296)\t1\n",
      "  (0, 5953)\t1\n",
      "  (0, 4742)\t1\n",
      "  :\t:\n",
      "  (0, 2945)\t1\n",
      "  (0, 7744)\t1\n",
      "  (0, 3068)\t2\n",
      "  (0, 6971)\t1\n",
      "  (0, 9402)\t1\n",
      "  (0, 3465)\t1\n",
      "  (0, 106)\t1\n",
      "  (0, 2789)\t1\n",
      "  (0, 3557)\t1\n",
      "  (0, 306)\t1\n",
      "  (0, 4115)\t1\n",
      "  (0, 5914)\t1\n",
      "  (0, 9211)\t1\n",
      "  (0, 1303)\t1\n",
      "  (0, 8348)\t1\n",
      "  (0, 8754)\t1\n",
      "  (0, 4284)\t1\n",
      "  (0, 3564)\t1\n",
      "  (0, 126)\t1\n",
      "  (0, 8195)\t1\n",
      "  (0, 5211)\t1\n",
      "  (0, 2010)\t1\n",
      "  (0, 5939)\t1\n",
      "  (0, 441)\t1\n",
      "  (0, 5523)\t1\n"
     ]
    }
   ],
   "source": [
    "print(X.tocsr()[0,:])"
   ]
  },
  {
   "cell_type": "code",
   "execution_count": 18,
   "metadata": {},
   "outputs": [
    {
     "name": "stdout",
     "output_type": "stream",
     "text": [
      "(1000, 1000)\n"
     ]
    },
    {
     "data": {
      "text/plain": [
       "5.184629400027916"
      ]
     },
     "execution_count": 18,
     "metadata": {},
     "output_type": "execute_result"
    }
   ],
   "source": [
    "XX = X.toarray()\n",
    "print(np.shape(np.matmul(X.toarray(), X.toarray().T)))\n",
    "timeit.timeit(lambda: np.matmul(XX, XX.T), number=1)\n",
    "      "
   ]
  },
  {
   "cell_type": "code",
   "execution_count": null,
   "metadata": {},
   "outputs": [],
   "source": [
    "arry_exp = {}\n",
    "dok_exp = {}\n",
    "lil_exp = {}\n",
    "coo_exp = {}\n",
    "csc_exp = {}\n",
    "\n",
    "\n",
    "for w in range(1000, 10001, **2): \n",
    "    print(w)\n",
    "    arry_exp[w] = timeit.timeit(lambda: np.matmul(XX, XX.T), number=2)/2\n",
    "    dok_exp[w] = timeit.timeit(lambda: X.todok()*X.T.todok(), number=2)/2\n",
    "    lil_exp[w] = timeit.timeit(lambda: X.tolil()*X.T.todok(), number=2)/2\n",
    "    coo_exp[w] = timeit.timeit(lambda: X.tocoo()*X.T.tocoo(), number=2)/2\n",
    "    csc_exp[w] = timeit.timeit(lambda: X.tocsc()*X.T.tocsc(), number=2)/2"
   ]
  },
  {
   "cell_type": "code",
   "execution_count": 20,
   "metadata": {},
   "outputs": [
    {
     "name": "stdout",
     "output_type": "stream",
     "text": [
      "(1000, 1000)\n"
     ]
    },
    {
     "data": {
      "text/plain": [
       "0.05300806668431809"
      ]
     },
     "execution_count": 20,
     "metadata": {},
     "output_type": "execute_result"
    }
   ],
   "source": [
    "print(np.shape(X*X.T))\n",
    "timeit.timeit(lambda: X*X.T, number=3)/3"
   ]
  },
  {
   "cell_type": "code",
   "execution_count": 8,
   "metadata": {},
   "outputs": [
    {
     "data": {
      "text/plain": [
       "5.659111699981925"
      ]
     },
     "execution_count": 8,
     "metadata": {},
     "output_type": "execute_result"
    }
   ],
   "source": [
    "timeit.timeit(lambda: np.matmul(XX, XX.T), number=3)/3"
   ]
  },
  {
   "cell_type": "code",
   "execution_count": 9,
   "metadata": {},
   "outputs": [
    {
     "data": {
      "text/plain": [
       "0.20616453334999582"
      ]
     },
     "execution_count": 9,
     "metadata": {},
     "output_type": "execute_result"
    }
   ],
   "source": [
    "timeit.timeit(lambda: X.todok()*X.T.todok(), number=3)/3"
   ]
  },
  {
   "cell_type": "code",
   "execution_count": 10,
   "metadata": {},
   "outputs": [
    {
     "data": {
      "text/plain": [
       "0.08247310000782211"
      ]
     },
     "execution_count": 10,
     "metadata": {},
     "output_type": "execute_result"
    }
   ],
   "source": [
    "timeit.timeit(lambda: X.tolil()*X.T.tolil(), number=3)/3"
   ]
  },
  {
   "cell_type": "code",
   "execution_count": 11,
   "metadata": {},
   "outputs": [
    {
     "data": {
      "text/plain": [
       "0.06173736664156119"
      ]
     },
     "execution_count": 11,
     "metadata": {},
     "output_type": "execute_result"
    }
   ],
   "source": [
    "timeit.timeit(lambda: X.tocoo()*X.T.tocoo(), number=3)/3"
   ]
  },
  {
   "cell_type": "code",
   "execution_count": 12,
   "metadata": {},
   "outputs": [
    {
     "data": {
      "text/plain": [
       "0.059209933349241815"
      ]
     },
     "execution_count": 12,
     "metadata": {},
     "output_type": "execute_result"
    }
   ],
   "source": [
    "timeit.timeit(lambda: X.tocsc()*X.T.tocsc(), number=3)/3"
   ]
  }
 ],
 "metadata": {
  "kernelspec": {
   "display_name": "se-482",
   "language": "python",
   "name": "python3"
  },
  "language_info": {
   "codemirror_mode": {
    "name": "ipython",
    "version": 3
   },
   "file_extension": ".py",
   "mimetype": "text/x-python",
   "name": "python",
   "nbconvert_exporter": "python",
   "pygments_lexer": "ipython3",
   "version": "3.11.5"
  }
 },
 "nbformat": 4,
 "nbformat_minor": 2
}
