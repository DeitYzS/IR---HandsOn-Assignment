{
 "cells": [
  {
   "cell_type": "markdown",
   "metadata": {},
   "source": [
    "# Assginment #2\n",
    "• Repeat the experiment from page #64-#67 using the full dataset  <br>\n",
    "• Without limiting it to just 1000 rows."
   ]
  },
  {
   "cell_type": "code",
   "execution_count": 1,
   "metadata": {},
   "outputs": [],
   "source": [
    "import string\n",
    "import timeit\n",
    "\n",
    "import numpy as np\n",
    "from nltk.tokenize import word_tokenize\n",
    "from nltk.corpus import stopwords\n",
    "from nltk.stem import PorterStemmer\n",
    "import pandas as pd\n",
    "from ordered_set import OrderedSet\n",
    "import re"
   ]
  },
  {
   "cell_type": "code",
   "execution_count": 2,
   "metadata": {},
   "outputs": [],
   "source": [
    "def get_and_clean_data():\n",
    "    data = pd.read_csv('./resource/software_developer_united_states_1971_20191023_1.csv')\n",
    "    description = data['job_description']\n",
    "    cleaned_description = description.apply(lambda s: s.translate(str.maketrans('', '', string.punctuation + u'\\xa0')))\n",
    "    cleaned_description = cleaned_description.apply(lambda s: s.lower())\n",
    "    cleaned_description = cleaned_description.apply(lambda s: s.translate(str.maketrans(string.whitespace, ' '*len(string.whitespace), '')))\n",
    "    cleaned_description = cleaned_description.drop_duplicates()\n",
    "    return cleaned_description"
   ]
  },
  {
   "cell_type": "code",
   "execution_count": 3,
   "metadata": {},
   "outputs": [],
   "source": [
    "def m2_elapsed_set():\n",
    "    cleaned_description = get_and_clean_data()\n",
    "\n",
    "    cleaned_description = cleaned_description.apply(lambda s: re.sub(r'[^A-Za-z]', ' ', s))\n",
    "    cleaned_description = cleaned_description.apply(lambda s: re.sub(r'\\s+',' ', s))\n",
    "\n",
    "    tokenized_description = cleaned_description.apply(lambda s: word_tokenize(s))\n",
    "\n",
    "    stop_dict = set(stopwords.words())\n",
    "    sw_removed_description = tokenized_description.apply(lambda s: list(OrderedSet(s) - stop_dict))\n",
    "    sw_removed_description = sw_removed_description.apply(lambda s: [word for word in s if len(word)>2])\n",
    "\n",
    "    concated = np.unique(np.concatenate([s for s in tokenized_description.values]))\n",
    "    stem_cache = {}\n",
    "    ps = PorterStemmer()\n",
    "    for s in concated: \n",
    "        stem_cache[s] = ps.stem(s)\n",
    "    stemmed_description = sw_removed_description.apply(lambda s: [stem_cache[w] for w in s])\n",
    "    return stemmed_description"
   ]
  },
  {
   "cell_type": "code",
   "execution_count": 4,
   "metadata": {},
   "outputs": [],
   "source": [
    "from sklearn.feature_extraction.text import CountVectorizer\n"
   ]
  },
  {
   "cell_type": "code",
   "execution_count": 5,
   "metadata": {},
   "outputs": [],
   "source": [
    "stemmed_description = m2_elapsed_set()"
   ]
  },
  {
   "cell_type": "code",
   "execution_count": 6,
   "metadata": {},
   "outputs": [
    {
     "name": "stdout",
     "output_type": "stream",
     "text": [
      "1000\n",
      "2000\n",
      "3000\n",
      "4000\n",
      "5000\n",
      "6000\n",
      "7000\n",
      "8000\n",
      "9000\n",
      "10000\n"
     ]
    }
   ],
   "source": [
    "arry_exp = {}\n",
    "dok_exp = {}\n",
    "lil_exp = {}\n",
    "coo_exp = {}\n",
    "csc_exp = {}\n",
    "\n",
    "\n",
    "\n",
    "for w in range(1000, 10001, 1000): \n",
    "    print(w)\n",
    "    cv = CountVectorizer(analyzer=lambda x: x)\n",
    "    X = cv.fit_transform(stemmed_description[:w])\n",
    "    XX = X.toarray()\n",
    "    arry_exp[w] = timeit.timeit(lambda: np.matmul(XX, XX.T), number=1)\n",
    "    dok_exp[w] = timeit.timeit(lambda: X.todok()*X.T.todok(), number=1)\n",
    "    lil_exp[w] = timeit.timeit(lambda: X.tolil()*X.T.tolil(), number=1)\n",
    "    coo_exp[w] = timeit.timeit(lambda: X.tocoo()*X.T.tocoo(), number=1)\n",
    "    csc_exp[w] = timeit.timeit(lambda: X.tocsc()*X.T.tocsc(), number=1)\n",
    "        \n"
   ]
  },
  {
   "cell_type": "code",
   "execution_count": 7,
   "metadata": {},
   "outputs": [
    {
     "data": {
      "text/html": [
       "<div>\n",
       "<style scoped>\n",
       "    .dataframe tbody tr th:only-of-type {\n",
       "        vertical-align: middle;\n",
       "    }\n",
       "\n",
       "    .dataframe tbody tr th {\n",
       "        vertical-align: top;\n",
       "    }\n",
       "\n",
       "    .dataframe thead th {\n",
       "        text-align: right;\n",
       "    }\n",
       "</style>\n",
       "<table border=\"1\" class=\"dataframe\">\n",
       "  <thead>\n",
       "    <tr style=\"text-align: right;\">\n",
       "      <th></th>\n",
       "      <th>array_exp</th>\n",
       "      <th>dok_exp</th>\n",
       "      <th>lil_exp</th>\n",
       "      <th>coo_exp</th>\n",
       "      <th>csc_exp</th>\n",
       "    </tr>\n",
       "  </thead>\n",
       "  <tbody>\n",
       "    <tr>\n",
       "      <th>1000</th>\n",
       "      <td>5.286209</td>\n",
       "      <td>0.206062</td>\n",
       "      <td>0.081089</td>\n",
       "      <td>0.059164</td>\n",
       "      <td>0.057581</td>\n",
       "    </tr>\n",
       "    <tr>\n",
       "      <th>2000</th>\n",
       "      <td>30.638549</td>\n",
       "      <td>0.573394</td>\n",
       "      <td>0.288657</td>\n",
       "      <td>0.246748</td>\n",
       "      <td>0.239478</td>\n",
       "    </tr>\n",
       "    <tr>\n",
       "      <th>3000</th>\n",
       "      <td>85.596504</td>\n",
       "      <td>1.079400</td>\n",
       "      <td>0.636508</td>\n",
       "      <td>0.561662</td>\n",
       "      <td>0.535475</td>\n",
       "    </tr>\n",
       "    <tr>\n",
       "      <th>4000</th>\n",
       "      <td>175.401061</td>\n",
       "      <td>1.694030</td>\n",
       "      <td>1.044700</td>\n",
       "      <td>0.956528</td>\n",
       "      <td>0.954347</td>\n",
       "    </tr>\n",
       "    <tr>\n",
       "      <th>5000</th>\n",
       "      <td>311.670032</td>\n",
       "      <td>2.640063</td>\n",
       "      <td>1.590727</td>\n",
       "      <td>1.509943</td>\n",
       "      <td>1.511832</td>\n",
       "    </tr>\n",
       "    <tr>\n",
       "      <th>6000</th>\n",
       "      <td>492.918652</td>\n",
       "      <td>3.422096</td>\n",
       "      <td>2.330008</td>\n",
       "      <td>2.218298</td>\n",
       "      <td>2.205929</td>\n",
       "    </tr>\n",
       "    <tr>\n",
       "      <th>7000</th>\n",
       "      <td>772.909193</td>\n",
       "      <td>4.589110</td>\n",
       "      <td>3.238062</td>\n",
       "      <td>3.085741</td>\n",
       "      <td>3.040339</td>\n",
       "    </tr>\n",
       "    <tr>\n",
       "      <th>8000</th>\n",
       "      <td>945.577918</td>\n",
       "      <td>5.149769</td>\n",
       "      <td>3.814780</td>\n",
       "      <td>3.619312</td>\n",
       "      <td>3.625334</td>\n",
       "    </tr>\n",
       "    <tr>\n",
       "      <th>9000</th>\n",
       "      <td>943.529969</td>\n",
       "      <td>5.582280</td>\n",
       "      <td>3.777900</td>\n",
       "      <td>3.655956</td>\n",
       "      <td>3.694479</td>\n",
       "    </tr>\n",
       "    <tr>\n",
       "      <th>10000</th>\n",
       "      <td>947.810622</td>\n",
       "      <td>5.180773</td>\n",
       "      <td>3.760832</td>\n",
       "      <td>3.666300</td>\n",
       "      <td>3.636745</td>\n",
       "    </tr>\n",
       "  </tbody>\n",
       "</table>\n",
       "</div>"
      ],
      "text/plain": [
       "        array_exp   dok_exp   lil_exp   coo_exp   csc_exp\n",
       "1000     5.286209  0.206062  0.081089  0.059164  0.057581\n",
       "2000    30.638549  0.573394  0.288657  0.246748  0.239478\n",
       "3000    85.596504  1.079400  0.636508  0.561662  0.535475\n",
       "4000   175.401061  1.694030  1.044700  0.956528  0.954347\n",
       "5000   311.670032  2.640063  1.590727  1.509943  1.511832\n",
       "6000   492.918652  3.422096  2.330008  2.218298  2.205929\n",
       "7000   772.909193  4.589110  3.238062  3.085741  3.040339\n",
       "8000   945.577918  5.149769  3.814780  3.619312  3.625334\n",
       "9000   943.529969  5.582280  3.777900  3.655956  3.694479\n",
       "10000  947.810622  5.180773  3.760832  3.666300  3.636745"
      ]
     },
     "execution_count": 7,
     "metadata": {},
     "output_type": "execute_result"
    }
   ],
   "source": [
    "compare = pd.concat([pd.DataFrame.from_dict(arry_exp, orient='index', columns=['array_exp']), pd.DataFrame.from_dict(dok_exp, orient='index', columns=['dok_exp']), pd.DataFrame.from_dict(lil_exp, orient='index', columns=['lil_exp']), pd.DataFrame.from_dict(coo_exp, orient='index', columns=['coo_exp']), pd.DataFrame.from_dict(csc_exp, orient='index', columns=['csc_exp'])] ,axis=1)\n",
    "compare"
   ]
  },
  {
   "cell_type": "code",
   "execution_count": 8,
   "metadata": {},
   "outputs": [
    {
     "data": {
      "text/plain": [
       "Text(0, 0.5, 'elapsed time (s)')"
      ]
     },
     "execution_count": 8,
     "metadata": {},
     "output_type": "execute_result"
    },
    {
     "data": {
      "image/png": "[encoded data removed]",
      "text/plain": [
       "<Figure size 640x480 with 1 Axes>"
      ]
     },
     "metadata": {},
     "output_type": "display_data"
    }
   ],
   "source": [
    "p = compare.plot()\n",
    "p.set_ylabel('elapsed time (s)')"
   ]
  }
 ],
 "metadata": {
  "kernelspec": {
   "display_name": "se-482",
   "language": "python",
   "name": "python3"
  },
  "language_info": {
   "codemirror_mode": {
    "name": "ipython",
    "version": 3
   },
   "file_extension": ".py",
   "mimetype": "text/x-python",
   "name": "python",
   "nbconvert_exporter": "python",
   "pygments_lexer": "ipython3",
   "version": "3.11.5"
  }
 },
 "nbformat": 4,
 "nbformat_minor": 2
}
